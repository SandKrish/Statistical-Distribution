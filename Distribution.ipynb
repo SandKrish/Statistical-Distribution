{
 "cells": [
  {
   "cell_type": "code",
   "execution_count": 154,
   "id": "ea23678a",
   "metadata": {},
   "outputs": [],
   "source": [
    "import numpy as np\n",
    "import matplotlib.pyplot as plt\n",
    "from scipy.stats import norm\n",
    "import statistics"
   ]
  },
  {
   "cell_type": "code",
   "execution_count": 155,
   "id": "221e7d6e",
   "metadata": {},
   "outputs": [],
   "source": [
    "x_axis = np.linspace(-10, 10, 100)\n",
    "y_axis = norm.pdf(x_axis,0,2)"
   ]
  },
  {
   "cell_type": "code",
   "execution_count": 156,
   "id": "b4004bab",
   "metadata": {},
   "outputs": [
    {
     "data": {
      "image/png": "[encoded data removed]",
      "text/plain": [
       "<Figure size 432x288 with 1 Axes>"
      ]
     },
     "metadata": {
      "needs_background": "light"
     },
     "output_type": "display_data"
    }
   ],
   "source": [
    "plt.plot(x_axis, y_axis, marker='o', markerfacecolor='red', markersize=5, color='skyblue', linewidth=1)\n",
    "plt.show()"
   ]
  },
  {
   "cell_type": "code",
   "execution_count": 157,
   "id": "1e341c52",
   "metadata": {},
   "outputs": [],
   "source": [
    "my_list2 = [1,2,3,3,3,4,4,4,5,5,5,5,5,6,6,6,6,6,6,6,7,7,7,7,7,7,7,7,8,8,8,8,8,8,8,8,8,8]"
   ]
  },
  {
   "cell_type": "code",
   "execution_count": 158,
   "id": "420a610c",
   "metadata": {},
   "outputs": [],
   "source": [
    "df = pd.DataFrame({'col':my_list2})"
   ]
  },
  {
   "cell_type": "code",
   "execution_count": 159,
   "id": "0e2a0cb0",
   "metadata": {},
   "outputs": [
    {
     "data": {
      "text/html": [
       "<div>\n",
       "<style scoped>\n",
       "    .dataframe tbody tr th:only-of-type {\n",
       "        vertical-align: middle;\n",
       "    }\n",
       "\n",
       "    .dataframe tbody tr th {\n",
       "        vertical-align: top;\n",
       "    }\n",
       "\n",
       "    .dataframe thead th {\n",
       "        text-align: right;\n",
       "    }\n",
       "</style>\n",
       "<table border=\"1\" class=\"dataframe\">\n",
       "  <thead>\n",
       "    <tr style=\"text-align: right;\">\n",
       "      <th></th>\n",
       "      <th>col</th>\n",
       "    </tr>\n",
       "  </thead>\n",
       "  <tbody>\n",
       "    <tr>\n",
       "      <th>0</th>\n",
       "      <td>1</td>\n",
       "    </tr>\n",
       "    <tr>\n",
       "      <th>1</th>\n",
       "      <td>2</td>\n",
       "    </tr>\n",
       "    <tr>\n",
       "      <th>2</th>\n",
       "      <td>3</td>\n",
       "    </tr>\n",
       "    <tr>\n",
       "      <th>3</th>\n",
       "      <td>3</td>\n",
       "    </tr>\n",
       "    <tr>\n",
       "      <th>4</th>\n",
       "      <td>3</td>\n",
       "    </tr>\n",
       "  </tbody>\n",
       "</table>\n",
       "</div>"
      ],
      "text/plain": [
       "   col\n",
       "0    1\n",
       "1    2\n",
       "2    3\n",
       "3    3\n",
       "4    3"
      ]
     },
     "execution_count": 159,
     "metadata": {},
     "output_type": "execute_result"
    }
   ],
   "source": [
    "df.head()"
   ]
  },
  {
   "cell_type": "code",
   "execution_count": 160,
   "id": "8c5238a9",
   "metadata": {},
   "outputs": [],
   "source": [
    "import seaborn as sns"
   ]
  },
  {
   "cell_type": "code",
   "execution_count": 161,
   "id": "027037ca",
   "metadata": {},
   "outputs": [],
   "source": [
    "df_1 = pd.read_csv('PanelData.csv')"
   ]
  },
  {
   "cell_type": "code",
   "execution_count": 162,
   "id": "684c82c1",
   "metadata": {},
   "outputs": [
    {
     "data": {
      "text/html": [
       "<div>\n",
       "<style scoped>\n",
       "    .dataframe tbody tr th:only-of-type {\n",
       "        vertical-align: middle;\n",
       "    }\n",
       "\n",
       "    .dataframe tbody tr th {\n",
       "        vertical-align: top;\n",
       "    }\n",
       "\n",
       "    .dataframe thead th {\n",
       "        text-align: right;\n",
       "    }\n",
       "</style>\n",
       "<table border=\"1\" class=\"dataframe\">\n",
       "  <thead>\n",
       "    <tr style=\"text-align: right;\">\n",
       "      <th></th>\n",
       "      <th>I</th>\n",
       "      <th>T</th>\n",
       "      <th>C</th>\n",
       "      <th>Q</th>\n",
       "      <th>PF</th>\n",
       "      <th>LF</th>\n",
       "    </tr>\n",
       "  </thead>\n",
       "  <tbody>\n",
       "    <tr>\n",
       "      <th>0</th>\n",
       "      <td>1</td>\n",
       "      <td>1</td>\n",
       "      <td>1140640</td>\n",
       "      <td>0.952757</td>\n",
       "      <td>106650</td>\n",
       "      <td>0.534487</td>\n",
       "    </tr>\n",
       "    <tr>\n",
       "      <th>1</th>\n",
       "      <td>1</td>\n",
       "      <td>2</td>\n",
       "      <td>1215690</td>\n",
       "      <td>0.986757</td>\n",
       "      <td>110307</td>\n",
       "      <td>0.532328</td>\n",
       "    </tr>\n",
       "    <tr>\n",
       "      <th>2</th>\n",
       "      <td>1</td>\n",
       "      <td>3</td>\n",
       "      <td>1309570</td>\n",
       "      <td>1.091980</td>\n",
       "      <td>110574</td>\n",
       "      <td>0.547736</td>\n",
       "    </tr>\n",
       "    <tr>\n",
       "      <th>3</th>\n",
       "      <td>1</td>\n",
       "      <td>4</td>\n",
       "      <td>1511530</td>\n",
       "      <td>1.175780</td>\n",
       "      <td>121974</td>\n",
       "      <td>0.540846</td>\n",
       "    </tr>\n",
       "    <tr>\n",
       "      <th>4</th>\n",
       "      <td>1</td>\n",
       "      <td>5</td>\n",
       "      <td>1676730</td>\n",
       "      <td>1.160170</td>\n",
       "      <td>196606</td>\n",
       "      <td>0.591167</td>\n",
       "    </tr>\n",
       "  </tbody>\n",
       "</table>\n",
       "</div>"
      ],
      "text/plain": [
       "   I  T        C         Q      PF        LF\n",
       "0  1  1  1140640  0.952757  106650  0.534487\n",
       "1  1  2  1215690  0.986757  110307  0.532328\n",
       "2  1  3  1309570  1.091980  110574  0.547736\n",
       "3  1  4  1511530  1.175780  121974  0.540846\n",
       "4  1  5  1676730  1.160170  196606  0.591167"
      ]
     },
     "execution_count": 162,
     "metadata": {},
     "output_type": "execute_result"
    }
   ],
   "source": [
    "df_1.head()"
   ]
  },
  {
   "cell_type": "code",
   "execution_count": 163,
   "id": "d92ab570",
   "metadata": {},
   "outputs": [
    {
     "data": {
      "text/plain": [
       "Text(0.97, 0.91, 'Kurtosis: 1.420562')"
      ]
     },
     "execution_count": 163,
     "metadata": {},
     "output_type": "execute_result"
    },
    {
     "data": {
      "image/png": "[encoded data removed]",
      "text/plain": [
       "<Figure size 432x288 with 1 Axes>"
      ]
     },
     "metadata": {
      "needs_background": "light"
     },
     "output_type": "display_data"
    }
   ],
   "source": [
    "ax = sns.histplot(df_1['C'],kde=True,color='red')\n",
    "\n",
    "ax.text(x=0.97, y=0.97, transform=ax.transAxes, s=\"Skewness: %f\" % df_1['C'].skew(),\\\n",
    "        fontsize=10, verticalalignment='top', horizontalalignment='right')\n",
    "ax.text(x=0.97, y=0.91, transform=ax.transAxes, s=\"Kurtosis: %f\" % df_1['C'].kurt(),\\\n",
    "        fontsize=10, verticalalignment='top', horizontalalignment='right')"
   ]
  },
  {
   "cell_type": "code",
   "execution_count": 164,
   "id": "692f8536",
   "metadata": {},
   "outputs": [
    {
     "data": {
      "text/plain": [
       "Text(0.5, 0.87, 'Kurtosis: -0.002506')"
      ]
     },
     "execution_count": 164,
     "metadata": {},
     "output_type": "execute_result"
    },
    {
     "data": {
      "image/png": "[encoded data removed]",
      "text/plain": [
       "<Figure size 432x288 with 1 Axes>"
      ]
     },
     "metadata": {
      "needs_background": "light"
     },
     "output_type": "display_data"
    }
   ],
   "source": [
    "ax = sns.histplot(df['col'],kde=True,color='red')\n",
    "\n",
    "ax.text(x=0.5, y=0.93, transform=ax.transAxes, s=\"Skewness: %f\" % df['col'].skew(),\\\n",
    "        fontsize=10, verticalalignment='top', horizontalalignment='right')\n",
    "ax.text(x=0.5, y=0.87, transform=ax.transAxes, s=\"Kurtosis: %f\" % df['col'].kurt(),\\\n",
    "        fontsize=10, verticalalignment='top', horizontalalignment='right')"
   ]
  }
 ],
 "metadata": {
  "kernelspec": {
   "display_name": "Python 3",
   "language": "python",
   "name": "python3"
  },
  "language_info": {
   "codemirror_mode": {
    "name": "ipython",
    "version": 3
   },
   "file_extension": ".py",
   "mimetype": "text/x-python",
   "name": "python",
   "nbconvert_exporter": "python",
   "pygments_lexer": "ipython3",
   "version": "3.8.8"
  }
 },
 "nbformat": 4,
 "nbformat_minor": 5
}
